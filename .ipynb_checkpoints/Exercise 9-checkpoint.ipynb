{
 "cells": [
  {
   "cell_type": "code",
   "execution_count": 49,
   "id": "d1f6afe9",
   "metadata": {},
   "outputs": [],
   "source": [
    "from sklearn.linear_model import LogisticRegression\n",
    "from sklearn.ensemble import RandomForestClassifier\n",
    "from sklearn.svm import SVC\n",
    "from sklearn.tree import DecisionTreeClassifier\n",
    "import numpy as np\n",
    "import pandas as pd"
   ]
  },
  {
   "cell_type": "code",
   "execution_count": 50,
   "id": "f2784889",
   "metadata": {},
   "outputs": [],
   "source": [
    "from sklearn.datasets import load_iris\n",
    "from sklearn.model_selection import cross_val_score"
   ]
  },
  {
   "cell_type": "code",
   "execution_count": 51,
   "id": "f4e9d9d7",
   "metadata": {},
   "outputs": [],
   "source": [
    "iris=load_iris()"
   ]
  },
  {
   "cell_type": "code",
   "execution_count": 52,
   "id": "7492126c",
   "metadata": {},
   "outputs": [
    {
     "name": "stdout",
     "output_type": "stream",
     "text": [
      "[0.98 0.96 0.98]\n",
      "0.9733333333333333\n"
     ]
    },
    {
     "name": "stderr",
     "output_type": "stream",
     "text": [
      "C:\\Users\\abhav\\anaconda3\\lib\\site-packages\\sklearn\\linear_model\\_logistic.py:763: ConvergenceWarning: lbfgs failed to converge (status=1):\n",
      "STOP: TOTAL NO. of ITERATIONS REACHED LIMIT.\n",
      "\n",
      "Increase the number of iterations (max_iter) or scale the data as shown in:\n",
      "    https://scikit-learn.org/stable/modules/preprocessing.html\n",
      "Please also refer to the documentation for alternative solver options:\n",
      "    https://scikit-learn.org/stable/modules/linear_model.html#logistic-regression\n",
      "  n_iter_i = _check_optimize_result(\n"
     ]
    }
   ],
   "source": [
    "l1=cross_val_score(LogisticRegression(),iris.data,iris.target,cv=3)\n",
    "print(l1)\n",
    "l1_score=np.average(l1)\n",
    "print(l1_score)"
   ]
  },
  {
   "cell_type": "code",
   "execution_count": 53,
   "id": "aa351f67",
   "metadata": {},
   "outputs": [
    {
     "name": "stdout",
     "output_type": "stream",
     "text": [
      "[0.98 0.94 0.96]\n",
      "0.96\n"
     ]
    }
   ],
   "source": [
    "l2=cross_val_score(RandomForestClassifier(n_estimators=40),iris.data,iris.target,cv=3)\n",
    "print(l2)\n",
    "l2_score=np.average(l2)\n",
    "print(l2_score)"
   ]
  },
  {
   "cell_type": "code",
   "execution_count": 54,
   "id": "f3bfb4c3",
   "metadata": {},
   "outputs": [
    {
     "name": "stdout",
     "output_type": "stream",
     "text": [
      "[0.96 0.98 0.94]\n",
      "0.96\n"
     ]
    }
   ],
   "source": [
    "l3=cross_val_score(SVC(),iris.data,iris.target,cv=3)\n",
    "print(l3)\n",
    "l3_score=np.average(l3)\n",
    "print(l3_score)"
   ]
  },
  {
   "cell_type": "code",
   "execution_count": 55,
   "id": "5686e8ff",
   "metadata": {},
   "outputs": [
    {
     "name": "stdout",
     "output_type": "stream",
     "text": [
      "[0.98 0.94 0.98]\n",
      "0.9666666666666667\n"
     ]
    }
   ],
   "source": [
    "l4=cross_val_score(DecisionTreeClassifier(),iris.data,iris.target,cv=3)\n",
    "print(l4)\n",
    "l4_score=np.average(l4)\n",
    "print(l4_score)"
   ]
  },
  {
   "cell_type": "markdown",
   "id": "9bedb809",
   "metadata": {},
   "source": [
    "### Best score so far is for the algorithm LogisticRegression"
   ]
  },
  {
   "cell_type": "code",
   "execution_count": null,
   "id": "1354431d",
   "metadata": {},
   "outputs": [],
   "source": []
  }
 ],
 "metadata": {
  "kernelspec": {
   "display_name": "Python 3 (ipykernel)",
   "language": "python",
   "name": "python3"
  },
  "language_info": {
   "codemirror_mode": {
    "name": "ipython",
    "version": 3
   },
   "file_extension": ".py",
   "mimetype": "text/x-python",
   "name": "python",
   "nbconvert_exporter": "python",
   "pygments_lexer": "ipython3",
   "version": "3.9.7"
  }
 },
 "nbformat": 4,
 "nbformat_minor": 5
}
