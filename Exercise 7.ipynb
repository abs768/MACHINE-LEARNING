{
 "cells": [
  {
   "cell_type": "code",
   "execution_count": 1,
   "id": "710ffb82",
   "metadata": {},
   "outputs": [],
   "source": [
    "import numpy as np\n",
    "import pandas as pd\n",
    "import matplotlib.pyplot as plt\n",
    "%matplotlib inline"
   ]
  },
  {
   "cell_type": "code",
   "execution_count": 2,
   "id": "7e609cb0",
   "metadata": {},
   "outputs": [],
   "source": [
    "from sklearn.datasets import load_digits"
   ]
  },
  {
   "cell_type": "code",
   "execution_count": 3,
   "id": "00d11a23",
   "metadata": {},
   "outputs": [],
   "source": [
    "x=load_digits()"
   ]
  },
  {
   "cell_type": "code",
   "execution_count": 4,
   "id": "280f3ff2",
   "metadata": {},
   "outputs": [
    {
     "data": {
      "text/plain": [
       "['DESCR', 'data', 'feature_names', 'frame', 'images', 'target', 'target_names']"
      ]
     },
     "execution_count": 4,
     "metadata": {},
     "output_type": "execute_result"
    }
   ],
   "source": [
    "dir(x)"
   ]
  },
  {
   "cell_type": "code",
   "execution_count": 5,
   "id": "72f99374",
   "metadata": {},
   "outputs": [],
   "source": [
    "from sklearn.model_selection import train_test_split"
   ]
  },
  {
   "cell_type": "code",
   "execution_count": 7,
   "id": "2049a2fd",
   "metadata": {},
   "outputs": [],
   "source": [
    "X=x.data\n",
    "y=x.target"
   ]
  },
  {
   "cell_type": "code",
   "execution_count": 8,
   "id": "ff721078",
   "metadata": {},
   "outputs": [
    {
     "data": {
      "text/plain": [
       "array([[ 0.,  0.,  5., ...,  0.,  0.,  0.],\n",
       "       [ 0.,  0.,  0., ..., 10.,  0.,  0.],\n",
       "       [ 0.,  0.,  0., ..., 16.,  9.,  0.],\n",
       "       ...,\n",
       "       [ 0.,  0.,  1., ...,  6.,  0.,  0.],\n",
       "       [ 0.,  0.,  2., ..., 12.,  0.,  0.],\n",
       "       [ 0.,  0., 10., ..., 12.,  1.,  0.]])"
      ]
     },
     "execution_count": 8,
     "metadata": {},
     "output_type": "execute_result"
    }
   ],
   "source": [
    "X"
   ]
  },
  {
   "cell_type": "code",
   "execution_count": 9,
   "id": "e37f66de",
   "metadata": {},
   "outputs": [
    {
     "data": {
      "text/plain": [
       "array([0, 1, 2, ..., 8, 9, 8])"
      ]
     },
     "execution_count": 9,
     "metadata": {},
     "output_type": "execute_result"
    }
   ],
   "source": [
    "y"
   ]
  },
  {
   "cell_type": "code",
   "execution_count": 10,
   "id": "f34eaca8",
   "metadata": {},
   "outputs": [],
   "source": [
    "X_train,X_test,y_train,y_test=train_test_split(X,y,test_size=0.2)"
   ]
  },
  {
   "cell_type": "code",
   "execution_count": 11,
   "id": "51674c84",
   "metadata": {},
   "outputs": [
    {
     "data": {
      "text/plain": [
       "1437"
      ]
     },
     "execution_count": 11,
     "metadata": {},
     "output_type": "execute_result"
    }
   ],
   "source": [
    "len(X_train)"
   ]
  },
  {
   "cell_type": "code",
   "execution_count": 12,
   "id": "48d2bb39",
   "metadata": {},
   "outputs": [
    {
     "data": {
      "text/plain": [
       "360"
      ]
     },
     "execution_count": 12,
     "metadata": {},
     "output_type": "execute_result"
    }
   ],
   "source": [
    "len(X_test)"
   ]
  },
  {
   "cell_type": "code",
   "execution_count": 13,
   "id": "a3f14dc5",
   "metadata": {},
   "outputs": [],
   "source": [
    "from sklearn.svm import SVC"
   ]
  },
  {
   "cell_type": "code",
   "execution_count": 14,
   "id": "8c6e9189",
   "metadata": {},
   "outputs": [],
   "source": [
    "model=SVC(kernel='linear')"
   ]
  },
  {
   "cell_type": "code",
   "execution_count": 15,
   "id": "9a5b0e29",
   "metadata": {},
   "outputs": [
    {
     "data": {
      "text/plain": [
       "SVC(kernel='linear')"
      ]
     },
     "execution_count": 15,
     "metadata": {},
     "output_type": "execute_result"
    }
   ],
   "source": [
    "model.fit(X_train,y_train)"
   ]
  },
  {
   "cell_type": "code",
   "execution_count": 16,
   "id": "385576e2",
   "metadata": {},
   "outputs": [
    {
     "data": {
      "text/plain": [
       "array([6, 9, 1, 6, 7, 8, 1, 8, 5, 9, 2, 3, 2, 5, 3, 6, 6, 4, 0, 7, 4, 5,\n",
       "       6, 0, 0, 4, 9, 4, 2, 1, 8, 1, 4, 3, 6, 0, 1, 2, 7, 8, 0, 3, 4, 5,\n",
       "       6, 4, 2, 2, 0, 7, 4, 1, 4, 6, 4, 4, 8, 4, 5, 4, 0, 5, 4, 0, 2, 6,\n",
       "       0, 1, 8, 5, 1, 4, 9, 6, 8, 6, 1, 7, 7, 0, 9, 8, 3, 6, 6, 7, 3, 4,\n",
       "       5, 3, 3, 4, 7, 6, 3, 2, 6, 8, 3, 6, 7, 0, 7, 3, 0, 7, 1, 1, 6, 1,\n",
       "       4, 9, 3, 5, 4, 1, 2, 3, 4, 4, 9, 7, 2, 3, 9, 1, 3, 9, 0, 4, 0, 5,\n",
       "       7, 1, 9, 7, 5, 6, 2, 1, 6, 9, 8, 0, 7, 9, 7, 9, 3, 7, 5, 1, 5, 8,\n",
       "       8, 4, 7, 2, 0, 0, 0, 0, 7, 7, 2, 7, 4, 2, 1, 0, 5, 8, 7, 5, 4, 8,\n",
       "       2, 9, 5, 2, 8, 6, 0, 4, 1, 7, 0, 8, 7, 3, 7, 7, 2, 5, 9, 8, 3, 0,\n",
       "       5, 4, 5, 7, 9, 3, 9, 4, 7, 0, 9, 4, 1, 1, 2, 0, 3, 5, 8, 7, 7, 0,\n",
       "       4, 1, 9, 8, 1, 6, 6, 1, 0, 0, 6, 0, 8, 5, 5, 7, 5, 0, 7, 5, 6, 7,\n",
       "       6, 7, 5, 5, 5, 0, 0, 5, 6, 5, 0, 2, 3, 4, 1, 9, 8, 4, 2, 8, 5, 2,\n",
       "       8, 9, 5, 3, 6, 7, 0, 2, 6, 2, 1, 5, 8, 9, 1, 4, 6, 1, 1, 6, 0, 9,\n",
       "       4, 2, 1, 4, 1, 5, 7, 0, 5, 2, 3, 6, 2, 5, 4, 5, 4, 5, 0, 4, 7, 2,\n",
       "       7, 7, 5, 8, 4, 6, 2, 3, 5, 6, 9, 5, 9, 3, 3, 1, 4, 1, 3, 4, 7, 2,\n",
       "       8, 6, 5, 0, 3, 2, 2, 6, 0, 0, 8, 5, 1, 8, 7, 7, 8, 5, 6, 8, 9, 0,\n",
       "       2, 7, 0, 5, 5, 3, 7, 4])"
      ]
     },
     "execution_count": 16,
     "metadata": {},
     "output_type": "execute_result"
    }
   ],
   "source": [
    "model.predict(X_test)"
   ]
  },
  {
   "cell_type": "code",
   "execution_count": 17,
   "id": "50d2eccc",
   "metadata": {},
   "outputs": [
    {
     "data": {
      "text/plain": [
       "0.9916666666666667"
      ]
     },
     "execution_count": 17,
     "metadata": {},
     "output_type": "execute_result"
    }
   ],
   "source": [
    "model.score(X_test,y_test)"
   ]
  },
  {
   "cell_type": "markdown",
   "id": "5e964782",
   "metadata": {},
   "source": [
    "## For RBF"
   ]
  },
  {
   "cell_type": "code",
   "execution_count": 22,
   "id": "16949607",
   "metadata": {},
   "outputs": [],
   "source": [
    "model_new=SVC(kernel='rbf')"
   ]
  },
  {
   "cell_type": "code",
   "execution_count": 23,
   "id": "3adc26c4",
   "metadata": {},
   "outputs": [
    {
     "data": {
      "text/plain": [
       "SVC()"
      ]
     },
     "execution_count": 23,
     "metadata": {},
     "output_type": "execute_result"
    }
   ],
   "source": [
    "model_new.fit(X_train,y_train)"
   ]
  },
  {
   "cell_type": "code",
   "execution_count": 24,
   "id": "d0e4e99f",
   "metadata": {},
   "outputs": [
    {
     "data": {
      "text/plain": [
       "array([6, 9, 1, 6, 7, 8, 1, 8, 5, 9, 2, 3, 2, 5, 3, 6, 6, 4, 0, 7, 4, 5,\n",
       "       6, 0, 0, 4, 9, 4, 2, 1, 8, 1, 4, 3, 6, 0, 1, 2, 7, 8, 0, 3, 4, 5,\n",
       "       6, 4, 2, 2, 0, 7, 4, 1, 4, 6, 4, 4, 8, 4, 5, 4, 0, 5, 4, 0, 2, 6,\n",
       "       0, 1, 8, 5, 1, 4, 9, 6, 8, 6, 1, 7, 7, 0, 9, 8, 3, 6, 6, 7, 3, 4,\n",
       "       5, 3, 3, 4, 7, 6, 3, 2, 6, 8, 3, 6, 7, 0, 7, 3, 0, 7, 1, 1, 6, 1,\n",
       "       4, 9, 3, 5, 4, 1, 2, 3, 4, 4, 9, 7, 2, 3, 9, 1, 3, 9, 0, 4, 0, 5,\n",
       "       7, 1, 9, 7, 5, 6, 2, 1, 6, 9, 8, 0, 7, 9, 7, 9, 3, 7, 5, 1, 5, 8,\n",
       "       8, 4, 7, 2, 0, 0, 0, 0, 7, 7, 2, 7, 4, 2, 1, 0, 5, 8, 7, 5, 4, 8,\n",
       "       2, 9, 5, 2, 8, 6, 0, 4, 1, 7, 0, 8, 7, 3, 7, 7, 2, 5, 9, 8, 3, 0,\n",
       "       5, 4, 5, 7, 9, 3, 9, 4, 7, 0, 9, 4, 1, 1, 2, 0, 3, 5, 8, 7, 7, 0,\n",
       "       4, 1, 9, 8, 1, 6, 6, 1, 0, 0, 6, 0, 8, 5, 5, 7, 5, 0, 7, 5, 6, 7,\n",
       "       6, 7, 5, 5, 5, 0, 0, 5, 6, 5, 0, 2, 3, 4, 1, 9, 8, 4, 2, 8, 5, 2,\n",
       "       8, 9, 5, 3, 6, 7, 0, 2, 6, 2, 1, 5, 8, 9, 1, 4, 6, 1, 1, 6, 0, 9,\n",
       "       4, 2, 1, 4, 1, 5, 7, 0, 5, 2, 3, 6, 2, 5, 4, 5, 4, 5, 0, 4, 7, 2,\n",
       "       7, 7, 5, 8, 4, 6, 2, 3, 5, 6, 9, 5, 9, 3, 3, 1, 4, 1, 3, 4, 7, 2,\n",
       "       8, 6, 5, 0, 3, 2, 2, 6, 0, 0, 8, 5, 1, 8, 7, 7, 8, 5, 6, 8, 9, 0,\n",
       "       2, 7, 0, 5, 5, 3, 7, 4])"
      ]
     },
     "execution_count": 24,
     "metadata": {},
     "output_type": "execute_result"
    }
   ],
   "source": [
    "model.predict(X_test)"
   ]
  },
  {
   "cell_type": "code",
   "execution_count": 25,
   "id": "4bf56d33",
   "metadata": {},
   "outputs": [
    {
     "data": {
      "text/plain": [
       "0.9916666666666667"
      ]
     },
     "execution_count": 25,
     "metadata": {},
     "output_type": "execute_result"
    }
   ],
   "source": [
    "model.score(X_test,y_test)"
   ]
  },
  {
   "cell_type": "code",
   "execution_count": null,
   "id": "0114b01f",
   "metadata": {},
   "outputs": [],
   "source": []
  }
 ],
 "metadata": {
  "kernelspec": {
   "display_name": "Python 3 (ipykernel)",
   "language": "python",
   "name": "python3"
  },
  "language_info": {
   "codemirror_mode": {
    "name": "ipython",
    "version": 3
   },
   "file_extension": ".py",
   "mimetype": "text/x-python",
   "name": "python",
   "nbconvert_exporter": "python",
   "pygments_lexer": "ipython3",
   "version": "3.9.7"
  }
 },
 "nbformat": 4,
 "nbformat_minor": 5
}
