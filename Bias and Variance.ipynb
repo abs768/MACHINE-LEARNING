{
 "cells": [
  {
   "cell_type": "code",
   "execution_count": 3,
   "id": "c05ea909",
   "metadata": {},
   "outputs": [
    {
     "data": {
      "text/plain": [
       "'\\nHigh Variance: This is the case for high variance, here test error varies greatly based on the selection of the training dataset.\\n\\nOverfit'"
      ]
     },
     "execution_count": 3,
     "metadata": {},
     "output_type": "execute_result"
    }
   ],
   "source": [
    "'''\n",
    "High Variance: This is the case for high variance, here test error varies greatly based on the selection of the training dataset.\n",
    "\n",
    "'''  #\"Overfit\""
   ]
  },
  {
   "cell_type": "code",
   "execution_count": 4,
   "id": "10e3c6f4",
   "metadata": {},
   "outputs": [
    {
     "data": {
      "text/plain": [
       "'\\nBais is a measurement of how accurately a model can capture in a training dataset. In above case since train error is big\\nit is said to have a high bias.\\n\\n'"
      ]
     },
     "execution_count": 4,
     "metadata": {},
     "output_type": "execute_result"
    }
   ],
   "source": [
    "'''\n",
    "Bias is a measurement of how accurately a model can capture in a training dataset. In above case since train error is big\n",
    "it is said to have a high bias.\n",
    "\n",
    "'''  #\"Underfit\""
   ]
  },
  {
   "cell_type": "code",
   "execution_count": 5,
   "id": "b32f3469",
   "metadata": {},
   "outputs": [
    {
     "data": {
      "text/plain": [
       "\"\\nPerfect Fit Model: It is a type of model whose test error doesn't vary too much or train error doesn't vary too much based upon the sample. low variance low bias.\\n\""
      ]
     },
     "execution_count": 5,
     "metadata": {},
     "output_type": "execute_result"
    }
   ],
   "source": [
    "'''\n",
    "Perfect Fit Model: It is a type of model whose test error doesn't vary too much or train error doesn't vary too much based upon the sample. low variance low bias.\n",
    "'''"
   ]
  },
  {
   "cell_type": "code",
   "execution_count": 6,
   "id": "9ded12d9",
   "metadata": {},
   "outputs": [],
   "source": [
    "## How to get a balanced model: use techniques like: Cross Validation,Regularization,Dimensionality Reduction, Principal Component Analysis, Ensemble Techniques."
   ]
  },
  {
   "cell_type": "code",
   "execution_count": null,
   "id": "c31ded6b",
   "metadata": {},
   "outputs": [],
   "source": []
  }
 ],
 "metadata": {
  "kernelspec": {
   "display_name": "Python 3 (ipykernel)",
   "language": "python",
   "name": "python3"
  },
  "language_info": {
   "codemirror_mode": {
    "name": "ipython",
    "version": 3
   },
   "file_extension": ".py",
   "mimetype": "text/x-python",
   "name": "python",
   "nbconvert_exporter": "python",
   "pygments_lexer": "ipython3",
   "version": "3.9.7"
  }
 },
 "nbformat": 4,
 "nbformat_minor": 5
}
